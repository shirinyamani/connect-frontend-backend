{
 "cells": [
  {
   "cell_type": "code",
   "execution_count": 2,
   "metadata": {},
   "outputs": [],
   "source": [
    "import requests\n",
    "import json"
   ]
  },
  {
   "cell_type": "code",
   "execution_count": 3,
   "metadata": {},
   "outputs": [],
   "source": [
    "def call_llama(model, prompt, stream=False):\n",
    "    url = 'http://localhost:11434/api/generate'\n",
    "    data = {\n",
    "        'model' : model,\n",
    "        'prompt' :prompt,\n",
    "        'stream':stream}\n",
    "    json_data = json.dumps(data)\n",
    "    response = requests.post(url=url, data=json_data,\n",
    "                             headers={'content-Type':'application/json'})\n",
    "    if response.status_code == 200:\n",
    "        return response.json()\n",
    "    \n",
    "    else: return f'Error: {response.status_code}'\n",
    "\n",
    "    "
   ]
  },
  {
   "cell_type": "code",
   "execution_count": 8,
   "metadata": {},
   "outputs": [
    {
     "data": {
      "text/plain": [
       "\"😔 Sorry to hear that you're feeling stressed. Can you tell me more about what's going on and why you're feeling this way? Sometimes talking about our feelings can help us feel better. Is there anything in particular that's causing your stress, or is it a general feeling? 🤔\""
      ]
     },
     "execution_count": 8,
     "metadata": {},
     "output_type": "execute_result"
    }
   ],
   "source": [
    "call_llama('llama2','I am feeling stressed!')['response']"
   ]
  },
  {
   "cell_type": "code",
   "execution_count": null,
   "metadata": {},
   "outputs": [],
   "source": []
  }
 ],
 "metadata": {
  "kernelspec": {
   "display_name": "ali-ml",
   "language": "python",
   "name": "python3"
  },
  "language_info": {
   "codemirror_mode": {
    "name": "ipython",
    "version": 3
   },
   "file_extension": ".py",
   "mimetype": "text/x-python",
   "name": "python",
   "nbconvert_exporter": "python",
   "pygments_lexer": "ipython3",
   "version": "3.10.12"
  }
 },
 "nbformat": 4,
 "nbformat_minor": 2
}
